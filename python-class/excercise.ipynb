{
 "cells": [
  {
   "cell_type": "markdown",
   "metadata": {},
   "source": [
    "## Multiple choices questions:"
   ]
  },
  {
   "cell_type": "markdown",
   "metadata": {},
   "source": [
    "Question 1: Class Basics\n",
    "\n",
    "What is the output of the following code?\n",
    "\n",
    "```python\n",
    "class MyClass:\n",
    "    x = 10\n",
    "\n",
    "obj = MyClass()\n",
    "print(obj.x)\n",
    "```\n",
    "A) 10\n",
    "\n",
    "B) None\n",
    "\n",
    "C) AttributeError\n",
    "\n",
    "D) TypeError"
   ]
  },
  {
   "cell_type": "code",
   "execution_count": null,
   "metadata": {},
   "outputs": [],
   "source": [
    "# Answer\n",
    "# Explanation"
   ]
  },
  {
   "cell_type": "markdown",
   "metadata": {},
   "source": [
    "Question 2: Instance Variables\n",
    "What is the output of the following code?\n",
    "\n",
    "```python\n",
    "class MyClass:\n",
    "    def __init__(self, value):\n",
    "        self.value = value\n",
    "\n",
    "obj1 = MyClass(10)\n",
    "obj2 = MyClass(20)\n",
    "print(obj1.value, obj2.value)\n",
    "```\n",
    "A) 10 10\n",
    "\n",
    "B) 20 20\n",
    "\n",
    "C) 10 20\n",
    "\n",
    "D) TypeError"
   ]
  },
  {
   "cell_type": "code",
   "execution_count": null,
   "metadata": {},
   "outputs": [],
   "source": [
    "# Answer\n",
    "# Explanation"
   ]
  },
  {
   "cell_type": "markdown",
   "metadata": {},
   "source": [
    "Question 3: Class vs Instance Attributes\n",
    "What is the output of the following code?\n",
    "\n",
    "```python\n",
    "class MyClass:\n",
    "    x = 10\n",
    "\n",
    "obj = MyClass()\n",
    "obj.x = 20\n",
    "print(MyClass.x)\n",
    "```\n",
    "\n",
    "A) 10\n",
    "\n",
    "B) 20\n",
    "\n",
    "C) None\n",
    "\n",
    "D) AttributeError"
   ]
  },
  {
   "cell_type": "code",
   "execution_count": 2,
   "metadata": {},
   "outputs": [],
   "source": [
    "# Answer\n",
    "# Explanation"
   ]
  }
 ],
 "metadata": {
  "kernelspec": {
   "display_name": "Python 3",
   "language": "python",
   "name": "python3"
  },
  "language_info": {
   "codemirror_mode": {
    "name": "ipython",
    "version": 3
   },
   "file_extension": ".py",
   "mimetype": "text/x-python",
   "name": "python",
   "nbconvert_exporter": "python",
   "pygments_lexer": "ipython3",
   "version": "3.11.11"
  }
 },
 "nbformat": 4,
 "nbformat_minor": 2
}
