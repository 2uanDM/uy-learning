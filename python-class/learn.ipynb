{
 "cells": [
  {
   "cell_type": "markdown",
   "metadata": {},
   "source": [
    "# Giải thích class là gì, instance là gì kèm code minh họa"
   ]
  },
  {
   "cell_type": "markdown",
   "metadata": {},
   "source": [
    "Class is a \"blueprint\", instances are samples of the object created by that blueprint, all of them are determined by Python codes."
   ]
  },
  {
   "cell_type": "code",
   "execution_count": 2,
   "metadata": {},
   "outputs": [
    {
     "name": "stdout",
     "output_type": "stream",
     "text": [
      "Alice 30\n",
      "Bob 25\n"
     ]
    }
   ],
   "source": [
    "# The \"Human\" class\n",
    "class Human:\n",
    "    def __init__(self, name, age):\n",
    "        self.name = name  # instance attribute\n",
    "        self.age = age    # instance attribute\n",
    "\n",
    "# Instances of the Human class\n",
    "person1 = Human('Alice', 30)\n",
    "person2 = Human('Bob', 25)\n",
    "\n",
    "print(person1.name, person1.age)  \n",
    "print(person2.name, person2.age)  "
   ]
  },
  {
   "cell_type": "markdown",
   "metadata": {},
   "source": [
    "## Attribute và Method là gì ?"
   ]
  },
  {
   "cell_type": "markdown",
   "metadata": {},
   "source": [
    "### Atrribute\n",
    "The objects defined in a class. From them the instances of a class differ "
   ]
  },
  {
   "cell_type": "code",
   "execution_count": 1,
   "metadata": {},
   "outputs": [],
   "source": [
    "# Lấy ví dụ về 2 loại attribute: instance attribute và class attribute\n",
    "class Human:\n",
    "    species = 'Homo sapiens'  # class attribute\n",
    "\n",
    "    def __init__(self, name, age):\n",
    "        self.name = name  # instance attribute\n",
    "        self.age = age    # instance attribute\n",
    "\n",
    "print(Human.species) \n",
    "person1 = Human('Alice', 30)\n",
    "print(person1.name, person1.age, person1.species)  "
   ]
  },
  {
   "cell_type": "markdown",
   "metadata": {},
   "source": [
    "### Method\n",
    "The functions defined in class, they are able to determine the value of the attributes"
   ]
  },
  {
   "cell_type": "code",
   "execution_count": 2,
   "metadata": {},
   "outputs": [],
   "source": [
    "# Lấy ví dụ về 2 loại method: instance method và class method\n",
    "class Human:\n",
    "    species = 'Homo sapiens'  # class attribute\n",
    "\n",
    "    def __init__(self, name, age):\n",
    "        self.name = name  # instance attribute\n",
    "        self.age = age    # instance attribute\n",
    "\n",
    "    def get_info(self):  # instance method\n",
    "        return f'{self.name} is {self.age} years old'\n",
    "\n",
    "    @classmethod\n",
    "    def get_species(cls):  # class method\n",
    "        return cls.species\n",
    "\n",
    "person1 = Human('Alice', 30)\n",
    "print(person1.get_info())  #\n",
    "print(Human.get_species())  "
   ]
  }
 ],
 "metadata": {
  "kernelspec": {
   "display_name": "base",
   "language": "python",
   "name": "python3"
  },
  "language_info": {
   "codemirror_mode": {
    "name": "ipython",
    "version": 3
   },
   "file_extension": ".py",
   "mimetype": "text/x-python",
   "name": "python",
   "nbconvert_exporter": "python",
   "pygments_lexer": "ipython3",
   "version": "3.12.7"
  }
 },
 "nbformat": 4,
 "nbformat_minor": 2
}
